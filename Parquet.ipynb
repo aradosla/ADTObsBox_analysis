{
 "cells": [
  {
   "cell_type": "code",
   "execution_count": 421,
   "id": "0703a987",
   "metadata": {},
   "outputs": [],
   "source": [
    "import pandas as pd\n",
    "import numpy as np\n",
    "import matplotlib.pyplot as plt\n",
    "\n",
    "#!pip install --user git+https://github.com/sterbini/nx2pd.git"
   ]
  },
  {
   "cell_type": "code",
   "execution_count": 422,
   "id": "007e1594",
   "metadata": {},
   "outputs": [],
   "source": [
    "import nx2pd"
   ]
  },
  {
   "cell_type": "code",
   "execution_count": 423,
   "id": "274cdcfd",
   "metadata": {},
   "outputs": [
    {
     "data": {
      "text/plain": [
       "261751"
      ]
     },
     "execution_count": 423,
     "metadata": {},
     "output_type": "execute_result"
    }
   ],
   "source": [
    "data = pd.read_parquet('fills1.parquet', engine='pyarrow')\n",
    "len(data)"
   ]
  },
  {
   "cell_type": "code",
   "execution_count": 424,
   "id": "9f007f65",
   "metadata": {},
   "outputs": [
    {
     "data": {
      "text/html": [
       "<div>\n",
       "<style scoped>\n",
       "    .dataframe tbody tr th:only-of-type {\n",
       "        vertical-align: middle;\n",
       "    }\n",
       "\n",
       "    .dataframe tbody tr th {\n",
       "        vertical-align: top;\n",
       "    }\n",
       "\n",
       "    .dataframe thead th {\n",
       "        text-align: right;\n",
       "    }\n",
       "</style>\n",
       "<table border=\"1\" class=\"dataframe\">\n",
       "  <thead>\n",
       "    <tr style=\"text-align: right;\">\n",
       "      <th></th>\n",
       "      <th>HX:BMODE</th>\n",
       "      <th>HX:FILLN</th>\n",
       "      <th>LHC.BQM.B1:NO_BUNCHES</th>\n",
       "      <th>LHC.BQM.B2:NO_BUNCHES</th>\n",
       "    </tr>\n",
       "  </thead>\n",
       "  <tbody>\n",
       "    <tr>\n",
       "      <th>1669566124291681000</th>\n",
       "      <td>None</td>\n",
       "      <td>None</td>\n",
       "      <td>None</td>\n",
       "      <td>0</td>\n",
       "    </tr>\n",
       "    <tr>\n",
       "      <th>1669566125391510000</th>\n",
       "      <td>None</td>\n",
       "      <td>None</td>\n",
       "      <td>0</td>\n",
       "      <td>None</td>\n",
       "    </tr>\n",
       "    <tr>\n",
       "      <th>1669566125391677000</th>\n",
       "      <td>None</td>\n",
       "      <td>None</td>\n",
       "      <td>None</td>\n",
       "      <td>0</td>\n",
       "    </tr>\n",
       "    <tr>\n",
       "      <th>1669566126491504000</th>\n",
       "      <td>None</td>\n",
       "      <td>None</td>\n",
       "      <td>0</td>\n",
       "      <td>None</td>\n",
       "    </tr>\n",
       "    <tr>\n",
       "      <th>1669566126491672000</th>\n",
       "      <td>None</td>\n",
       "      <td>None</td>\n",
       "      <td>None</td>\n",
       "      <td>0</td>\n",
       "    </tr>\n",
       "    <tr>\n",
       "      <th>1669566127591502000</th>\n",
       "      <td>None</td>\n",
       "      <td>None</td>\n",
       "      <td>0</td>\n",
       "      <td>None</td>\n",
       "    </tr>\n",
       "    <tr>\n",
       "      <th>1669566127591758000</th>\n",
       "      <td>None</td>\n",
       "      <td>None</td>\n",
       "      <td>None</td>\n",
       "      <td>0</td>\n",
       "    </tr>\n",
       "    <tr>\n",
       "      <th>1669566128691495000</th>\n",
       "      <td>None</td>\n",
       "      <td>None</td>\n",
       "      <td>0</td>\n",
       "      <td>None</td>\n",
       "    </tr>\n",
       "    <tr>\n",
       "      <th>1669566128691750000</th>\n",
       "      <td>None</td>\n",
       "      <td>None</td>\n",
       "      <td>None</td>\n",
       "      <td>0</td>\n",
       "    </tr>\n",
       "    <tr>\n",
       "      <th>1669566128950238525</th>\n",
       "      <td>FLATTOP</td>\n",
       "      <td>None</td>\n",
       "      <td>None</td>\n",
       "      <td>None</td>\n",
       "    </tr>\n",
       "    <tr>\n",
       "      <th>1669566129791490000</th>\n",
       "      <td>None</td>\n",
       "      <td>None</td>\n",
       "      <td>0</td>\n",
       "      <td>None</td>\n",
       "    </tr>\n",
       "    <tr>\n",
       "      <th>1669566129791747000</th>\n",
       "      <td>None</td>\n",
       "      <td>None</td>\n",
       "      <td>None</td>\n",
       "      <td>0</td>\n",
       "    </tr>\n",
       "    <tr>\n",
       "      <th>1669566130891486000</th>\n",
       "      <td>None</td>\n",
       "      <td>None</td>\n",
       "      <td>0</td>\n",
       "      <td>None</td>\n",
       "    </tr>\n",
       "  </tbody>\n",
       "</table>\n",
       "</div>"
      ],
      "text/plain": [
       "                    HX:BMODE HX:FILLN LHC.BQM.B1:NO_BUNCHES  \\\n",
       "1669566124291681000     None     None                  None   \n",
       "1669566125391510000     None     None                     0   \n",
       "1669566125391677000     None     None                  None   \n",
       "1669566126491504000     None     None                     0   \n",
       "1669566126491672000     None     None                  None   \n",
       "1669566127591502000     None     None                     0   \n",
       "1669566127591758000     None     None                  None   \n",
       "1669566128691495000     None     None                     0   \n",
       "1669566128691750000     None     None                  None   \n",
       "1669566128950238525  FLATTOP     None                  None   \n",
       "1669566129791490000     None     None                     0   \n",
       "1669566129791747000     None     None                  None   \n",
       "1669566130891486000     None     None                     0   \n",
       "\n",
       "                    LHC.BQM.B2:NO_BUNCHES  \n",
       "1669566124291681000                     0  \n",
       "1669566125391510000                  None  \n",
       "1669566125391677000                     0  \n",
       "1669566126491504000                  None  \n",
       "1669566126491672000                     0  \n",
       "1669566127591502000                  None  \n",
       "1669566127591758000                     0  \n",
       "1669566128691495000                  None  \n",
       "1669566128691750000                     0  \n",
       "1669566128950238525                  None  \n",
       "1669566129791490000                  None  \n",
       "1669566129791747000                     0  \n",
       "1669566130891486000                  None  "
      ]
     },
     "metadata": {},
     "output_type": "display_data"
    }
   ],
   "source": [
    "display(data[113620:113633])"
   ]
  },
  {
   "cell_type": "code",
   "execution_count": 425,
   "id": "10e2fcad",
   "metadata": {},
   "outputs": [
    {
     "data": {
      "text/html": [
       "<div>\n",
       "<style scoped>\n",
       "    .dataframe tbody tr th:only-of-type {\n",
       "        vertical-align: middle;\n",
       "    }\n",
       "\n",
       "    .dataframe tbody tr th {\n",
       "        vertical-align: top;\n",
       "    }\n",
       "\n",
       "    .dataframe thead th {\n",
       "        text-align: right;\n",
       "    }\n",
       "</style>\n",
       "<table border=\"1\" class=\"dataframe\">\n",
       "  <thead>\n",
       "    <tr style=\"text-align: right;\">\n",
       "      <th></th>\n",
       "      <th>HX:BMODE</th>\n",
       "      <th>HX:FILLN</th>\n",
       "      <th>LHC.BQM.B1:NO_BUNCHES</th>\n",
       "      <th>LHC.BQM.B2:NO_BUNCHES</th>\n",
       "    </tr>\n",
       "  </thead>\n",
       "  <tbody>\n",
       "    <tr>\n",
       "      <th>1669566124291681000</th>\n",
       "      <td>None</td>\n",
       "      <td>None</td>\n",
       "      <td>None</td>\n",
       "      <td>0</td>\n",
       "    </tr>\n",
       "    <tr>\n",
       "      <th>1669566125391510000</th>\n",
       "      <td>None</td>\n",
       "      <td>None</td>\n",
       "      <td>0</td>\n",
       "      <td>None</td>\n",
       "    </tr>\n",
       "    <tr>\n",
       "      <th>1669566125391677000</th>\n",
       "      <td>None</td>\n",
       "      <td>None</td>\n",
       "      <td>None</td>\n",
       "      <td>0</td>\n",
       "    </tr>\n",
       "    <tr>\n",
       "      <th>1669566126491504000</th>\n",
       "      <td>None</td>\n",
       "      <td>None</td>\n",
       "      <td>0</td>\n",
       "      <td>None</td>\n",
       "    </tr>\n",
       "    <tr>\n",
       "      <th>1669566126491672000</th>\n",
       "      <td>None</td>\n",
       "      <td>None</td>\n",
       "      <td>None</td>\n",
       "      <td>0</td>\n",
       "    </tr>\n",
       "    <tr>\n",
       "      <th>1669566127591502000</th>\n",
       "      <td>None</td>\n",
       "      <td>None</td>\n",
       "      <td>0</td>\n",
       "      <td>None</td>\n",
       "    </tr>\n",
       "    <tr>\n",
       "      <th>1669566127591758000</th>\n",
       "      <td>None</td>\n",
       "      <td>None</td>\n",
       "      <td>None</td>\n",
       "      <td>0</td>\n",
       "    </tr>\n",
       "    <tr>\n",
       "      <th>1669566128691495000</th>\n",
       "      <td>None</td>\n",
       "      <td>None</td>\n",
       "      <td>0</td>\n",
       "      <td>None</td>\n",
       "    </tr>\n",
       "    <tr>\n",
       "      <th>1669566128691750000</th>\n",
       "      <td>None</td>\n",
       "      <td>None</td>\n",
       "      <td>None</td>\n",
       "      <td>0</td>\n",
       "    </tr>\n",
       "    <tr>\n",
       "      <th>1669566128950238525</th>\n",
       "      <td>FLATTOP</td>\n",
       "      <td>None</td>\n",
       "      <td>None</td>\n",
       "      <td>None</td>\n",
       "    </tr>\n",
       "    <tr>\n",
       "      <th>1669566129791490000</th>\n",
       "      <td>None</td>\n",
       "      <td>None</td>\n",
       "      <td>0</td>\n",
       "      <td>None</td>\n",
       "    </tr>\n",
       "    <tr>\n",
       "      <th>1669566129791747000</th>\n",
       "      <td>None</td>\n",
       "      <td>None</td>\n",
       "      <td>None</td>\n",
       "      <td>0</td>\n",
       "    </tr>\n",
       "    <tr>\n",
       "      <th>1669566130891486000</th>\n",
       "      <td>None</td>\n",
       "      <td>None</td>\n",
       "      <td>0</td>\n",
       "      <td>None</td>\n",
       "    </tr>\n",
       "  </tbody>\n",
       "</table>\n",
       "</div>"
      ],
      "text/plain": [
       "                    HX:BMODE HX:FILLN LHC.BQM.B1:NO_BUNCHES  \\\n",
       "1669566124291681000     None     None                  None   \n",
       "1669566125391510000     None     None                     0   \n",
       "1669566125391677000     None     None                  None   \n",
       "1669566126491504000     None     None                     0   \n",
       "1669566126491672000     None     None                  None   \n",
       "1669566127591502000     None     None                     0   \n",
       "1669566127591758000     None     None                  None   \n",
       "1669566128691495000     None     None                     0   \n",
       "1669566128691750000     None     None                  None   \n",
       "1669566128950238525  FLATTOP     None                  None   \n",
       "1669566129791490000     None     None                     0   \n",
       "1669566129791747000     None     None                  None   \n",
       "1669566130891486000     None     None                     0   \n",
       "\n",
       "                    LHC.BQM.B2:NO_BUNCHES  \n",
       "1669566124291681000                     0  \n",
       "1669566125391510000                  None  \n",
       "1669566125391677000                     0  \n",
       "1669566126491504000                  None  \n",
       "1669566126491672000                     0  \n",
       "1669566127591502000                  None  \n",
       "1669566127591758000                     0  \n",
       "1669566128691495000                  None  \n",
       "1669566128691750000                     0  \n",
       "1669566128950238525                  None  \n",
       "1669566129791490000                  None  \n",
       "1669566129791747000                     0  \n",
       "1669566130891486000                  None  "
      ]
     },
     "metadata": {},
     "output_type": "display_data"
    }
   ],
   "source": [
    "display(data[113620:113633])"
   ]
  },
  {
   "cell_type": "code",
   "execution_count": 426,
   "id": "2a211037",
   "metadata": {},
   "outputs": [
    {
     "data": {
      "text/html": [
       "<div>\n",
       "<style scoped>\n",
       "    .dataframe tbody tr th:only-of-type {\n",
       "        vertical-align: middle;\n",
       "    }\n",
       "\n",
       "    .dataframe tbody tr th {\n",
       "        vertical-align: top;\n",
       "    }\n",
       "\n",
       "    .dataframe thead th {\n",
       "        text-align: right;\n",
       "    }\n",
       "</style>\n",
       "<table border=\"1\" class=\"dataframe\">\n",
       "  <thead>\n",
       "    <tr style=\"text-align: right;\">\n",
       "      <th></th>\n",
       "      <th>HX:BMODE</th>\n",
       "      <th>HX:FILLN</th>\n",
       "      <th>LHC.BQM.B1:NO_BUNCHES</th>\n",
       "      <th>LHC.BQM.B2:NO_BUNCHES</th>\n",
       "    </tr>\n",
       "  </thead>\n",
       "  <tbody>\n",
       "    <tr>\n",
       "      <th>1669503614091420000</th>\n",
       "      <td>None</td>\n",
       "      <td>None</td>\n",
       "      <td>2390</td>\n",
       "      <td>None</td>\n",
       "    </tr>\n",
       "    <tr>\n",
       "      <th>1669503614091712000</th>\n",
       "      <td>None</td>\n",
       "      <td>None</td>\n",
       "      <td>None</td>\n",
       "      <td>2390</td>\n",
       "    </tr>\n",
       "    <tr>\n",
       "      <th>1669503615191414000</th>\n",
       "      <td>None</td>\n",
       "      <td>None</td>\n",
       "      <td>2390</td>\n",
       "      <td>None</td>\n",
       "    </tr>\n",
       "    <tr>\n",
       "      <th>1669503615191707000</th>\n",
       "      <td>None</td>\n",
       "      <td>None</td>\n",
       "      <td>None</td>\n",
       "      <td>2390</td>\n",
       "    </tr>\n",
       "    <tr>\n",
       "      <th>1669503616291411000</th>\n",
       "      <td>None</td>\n",
       "      <td>None</td>\n",
       "      <td>2390</td>\n",
       "      <td>None</td>\n",
       "    </tr>\n",
       "    <tr>\n",
       "      <th>...</th>\n",
       "      <td>...</td>\n",
       "      <td>...</td>\n",
       "      <td>...</td>\n",
       "      <td>...</td>\n",
       "    </tr>\n",
       "    <tr>\n",
       "      <th>1669647597491735000</th>\n",
       "      <td>None</td>\n",
       "      <td>None</td>\n",
       "      <td>None</td>\n",
       "      <td>0</td>\n",
       "    </tr>\n",
       "    <tr>\n",
       "      <th>1669647598591451000</th>\n",
       "      <td>None</td>\n",
       "      <td>None</td>\n",
       "      <td>0</td>\n",
       "      <td>None</td>\n",
       "    </tr>\n",
       "    <tr>\n",
       "      <th>1669647598591730000</th>\n",
       "      <td>None</td>\n",
       "      <td>None</td>\n",
       "      <td>None</td>\n",
       "      <td>0</td>\n",
       "    </tr>\n",
       "    <tr>\n",
       "      <th>1669647599691448000</th>\n",
       "      <td>None</td>\n",
       "      <td>None</td>\n",
       "      <td>0</td>\n",
       "      <td>None</td>\n",
       "    </tr>\n",
       "    <tr>\n",
       "      <th>1669647599691727000</th>\n",
       "      <td>None</td>\n",
       "      <td>None</td>\n",
       "      <td>None</td>\n",
       "      <td>0</td>\n",
       "    </tr>\n",
       "  </tbody>\n",
       "</table>\n",
       "<p>261751 rows × 4 columns</p>\n",
       "</div>"
      ],
      "text/plain": [
       "                    HX:BMODE HX:FILLN LHC.BQM.B1:NO_BUNCHES  \\\n",
       "1669503614091420000     None     None                  2390   \n",
       "1669503614091712000     None     None                  None   \n",
       "1669503615191414000     None     None                  2390   \n",
       "1669503615191707000     None     None                  None   \n",
       "1669503616291411000     None     None                  2390   \n",
       "...                      ...      ...                   ...   \n",
       "1669647597491735000     None     None                  None   \n",
       "1669647598591451000     None     None                     0   \n",
       "1669647598591730000     None     None                  None   \n",
       "1669647599691448000     None     None                     0   \n",
       "1669647599691727000     None     None                  None   \n",
       "\n",
       "                    LHC.BQM.B2:NO_BUNCHES  \n",
       "1669503614091420000                  None  \n",
       "1669503614091712000                  2390  \n",
       "1669503615191414000                  None  \n",
       "1669503615191707000                  2390  \n",
       "1669503616291411000                  None  \n",
       "...                                   ...  \n",
       "1669647597491735000                     0  \n",
       "1669647598591451000                  None  \n",
       "1669647598591730000                     0  \n",
       "1669647599691448000                  None  \n",
       "1669647599691727000                     0  \n",
       "\n",
       "[261751 rows x 4 columns]"
      ]
     },
     "metadata": {},
     "output_type": "display_data"
    }
   ],
   "source": [
    "display(data)"
   ]
  },
  {
   "cell_type": "code",
   "execution_count": 427,
   "id": "5a5e051b",
   "metadata": {},
   "outputs": [
    {
     "data": {
      "text/plain": [
       "'All possible modes = '"
      ]
     },
     "metadata": {},
     "output_type": "display_data"
    },
    {
     "data": {
      "text/plain": [
       "array([None, 'BEAMDUMP', 'RAMPDOWN', 'NOBEAM', 'CYCLING', 'SETUP',\n",
       "       'INJPROB', 'INJPHYS', 'PRERAMP', 'RAMP', 'FLATTOP', 'SQUEEZE',\n",
       "       'ADJUST', 'STABLE'], dtype=object)"
      ]
     },
     "metadata": {},
     "output_type": "display_data"
    }
   ],
   "source": [
    "all_b = data['HX:BMODE'].unique()\n",
    "np.where(data['HX:BMODE']=='FLATTOP')[0]\n",
    "display('All possible modes = ', all_b)"
   ]
  },
  {
   "cell_type": "code",
   "execution_count": 428,
   "id": "fa53bc59",
   "metadata": {},
   "outputs": [],
   "source": [
    "grouped = data.groupby(data.index)\n"
   ]
  },
  {
   "cell_type": "markdown",
   "id": "3f86e6e6",
   "metadata": {},
   "source": [
    "for key, group in grouped:\n",
    "    #print(key)\n",
    "    print(group)\n",
    "    #print(data['HX:BMODE'].unique())"
   ]
  },
  {
   "cell_type": "code",
   "execution_count": 429,
   "id": "7da991fa",
   "metadata": {},
   "outputs": [
    {
     "data": {
      "text/plain": [
       "Index(['HX:BMODE', 'HX:FILLN', 'LHC.BQM.B1:NO_BUNCHES',\n",
       "       'LHC.BQM.B2:NO_BUNCHES'],\n",
       "      dtype='object')"
      ]
     },
     "execution_count": 429,
     "metadata": {},
     "output_type": "execute_result"
    }
   ],
   "source": [
    "data.keys()"
   ]
  },
  {
   "cell_type": "code",
   "execution_count": 430,
   "id": "79ff02e0",
   "metadata": {},
   "outputs": [],
   "source": [
    "a = data.groupby(level=0)"
   ]
  },
  {
   "cell_type": "code",
   "execution_count": 431,
   "id": "1d00dfb8",
   "metadata": {},
   "outputs": [
    {
     "name": "stdout",
     "output_type": "stream",
     "text": [
      "<pandas.core.groupby.generic.DataFrameGroupBy object at 0x7f3f1d8aef40>\n"
     ]
    }
   ],
   "source": [
    "print(a)"
   ]
  },
  {
   "cell_type": "markdown",
   "id": "9f753ef9",
   "metadata": {},
   "source": [
    "## Reading and sorting the data"
   ]
  },
  {
   "cell_type": "code",
   "execution_count": 432,
   "id": "8f73819e",
   "metadata": {},
   "outputs": [
    {
     "data": {
      "text/html": [
       "<div>\n",
       "<style scoped>\n",
       "    .dataframe tbody tr th:only-of-type {\n",
       "        vertical-align: middle;\n",
       "    }\n",
       "\n",
       "    .dataframe tbody tr th {\n",
       "        vertical-align: top;\n",
       "    }\n",
       "\n",
       "    .dataframe thead th {\n",
       "        text-align: right;\n",
       "    }\n",
       "</style>\n",
       "<table border=\"1\" class=\"dataframe\">\n",
       "  <thead>\n",
       "    <tr style=\"text-align: right;\">\n",
       "      <th></th>\n",
       "      <th>HX:BMODE</th>\n",
       "      <th>HX:FILLN</th>\n",
       "      <th>LHC.BQM.B1:NO_BUNCHES</th>\n",
       "      <th>LHC.BQM.B2:NO_BUNCHES</th>\n",
       "    </tr>\n",
       "  </thead>\n",
       "  <tbody>\n",
       "    <tr>\n",
       "      <th>1669503614091420000</th>\n",
       "      <td>None</td>\n",
       "      <td>8492</td>\n",
       "      <td>2390</td>\n",
       "      <td>None</td>\n",
       "    </tr>\n",
       "    <tr>\n",
       "      <th>1669503614091712000</th>\n",
       "      <td>None</td>\n",
       "      <td>8492</td>\n",
       "      <td>2390</td>\n",
       "      <td>2390</td>\n",
       "    </tr>\n",
       "    <tr>\n",
       "      <th>1669503615191414000</th>\n",
       "      <td>None</td>\n",
       "      <td>8492</td>\n",
       "      <td>2390</td>\n",
       "      <td>None</td>\n",
       "    </tr>\n",
       "    <tr>\n",
       "      <th>1669503615191707000</th>\n",
       "      <td>None</td>\n",
       "      <td>8492</td>\n",
       "      <td>2390</td>\n",
       "      <td>2390</td>\n",
       "    </tr>\n",
       "    <tr>\n",
       "      <th>1669503616291411000</th>\n",
       "      <td>None</td>\n",
       "      <td>8492</td>\n",
       "      <td>2390</td>\n",
       "      <td>None</td>\n",
       "    </tr>\n",
       "    <tr>\n",
       "      <th>...</th>\n",
       "      <td>...</td>\n",
       "      <td>...</td>\n",
       "      <td>...</td>\n",
       "      <td>...</td>\n",
       "    </tr>\n",
       "    <tr>\n",
       "      <th>1669647597491735000</th>\n",
       "      <td>None</td>\n",
       "      <td>8497</td>\n",
       "      <td>0</td>\n",
       "      <td>0</td>\n",
       "    </tr>\n",
       "    <tr>\n",
       "      <th>1669647598591451000</th>\n",
       "      <td>None</td>\n",
       "      <td>8497</td>\n",
       "      <td>0</td>\n",
       "      <td>None</td>\n",
       "    </tr>\n",
       "    <tr>\n",
       "      <th>1669647598591730000</th>\n",
       "      <td>None</td>\n",
       "      <td>8497</td>\n",
       "      <td>0</td>\n",
       "      <td>0</td>\n",
       "    </tr>\n",
       "    <tr>\n",
       "      <th>1669647599691448000</th>\n",
       "      <td>None</td>\n",
       "      <td>8497</td>\n",
       "      <td>0</td>\n",
       "      <td>None</td>\n",
       "    </tr>\n",
       "    <tr>\n",
       "      <th>1669647599691727000</th>\n",
       "      <td>None</td>\n",
       "      <td>8497</td>\n",
       "      <td>0</td>\n",
       "      <td>0</td>\n",
       "    </tr>\n",
       "  </tbody>\n",
       "</table>\n",
       "<p>261751 rows × 4 columns</p>\n",
       "</div>"
      ],
      "text/plain": [
       "                    HX:BMODE HX:FILLN LHC.BQM.B1:NO_BUNCHES  \\\n",
       "1669503614091420000     None     8492                  2390   \n",
       "1669503614091712000     None     8492                  2390   \n",
       "1669503615191414000     None     8492                  2390   \n",
       "1669503615191707000     None     8492                  2390   \n",
       "1669503616291411000     None     8492                  2390   \n",
       "...                      ...      ...                   ...   \n",
       "1669647597491735000     None     8497                     0   \n",
       "1669647598591451000     None     8497                     0   \n",
       "1669647598591730000     None     8497                     0   \n",
       "1669647599691448000     None     8497                     0   \n",
       "1669647599691727000     None     8497                     0   \n",
       "\n",
       "                    LHC.BQM.B2:NO_BUNCHES  \n",
       "1669503614091420000                  None  \n",
       "1669503614091712000                  2390  \n",
       "1669503615191414000                  None  \n",
       "1669503615191707000                  2390  \n",
       "1669503616291411000                  None  \n",
       "...                                   ...  \n",
       "1669647597491735000                     0  \n",
       "1669647598591451000                  None  \n",
       "1669647598591730000                     0  \n",
       "1669647599691448000                  None  \n",
       "1669647599691727000                     0  \n",
       "\n",
       "[261751 rows x 4 columns]"
      ]
     },
     "metadata": {},
     "output_type": "display_data"
    },
    {
     "name": "stdout",
     "output_type": "stream",
     "text": [
      "[2390, 0]\n",
      "[0, 1, 12, 24]\n",
      "[0, 1, 12, 13, 121, 301, 481, 625, 626, 734, 914, 1094, 1274, 1382, 1562, 1742, 1922, 2030, 2210, 2390]\n",
      "[0, 1, 12, 13, 121, 301, 481, 625, 626, 734, 914, 1094, 1274, 1382, 1562, 1742, 1922, 2030, 2210, 2390]\n",
      "[0, 1, 12, 13, 121, 301, 481, 625, 626, 734, 914, 1094, 1274, 1382, 1562, 1742, 1922, 2030, 2210, 2390]\n",
      "[0]\n",
      "Max number of bunches per fill=  [2390, 24, 2390, 2390, 2390, 0]\n",
      "[8492, 8493, 8494, 8495, 8496, 8497]\n"
     ]
    },
    {
     "data": {
      "text/plain": [
       "Text(0, 0.5, 'Max number of bunches')"
      ]
     },
     "execution_count": 432,
     "metadata": {},
     "output_type": "execute_result"
    },
    {
     "data": {
      "image/png": "[encoded data removed]",
      "text/plain": [
       "<Figure size 432x288 with 1 Axes>"
      ]
     },
     "metadata": {
      "needs_background": "light"
     },
     "output_type": "display_data"
    }
   ],
   "source": [
    "df_modes = pd.read_parquet(\"fills1.parquet\", engine='pyarrow')\n",
    "\n",
    "df_fills = pd.read_parquet(\"fills1.parquet\", engine='pyarrow')\n",
    "if df_fills['HX:FILLN'].iloc[0] == None:\n",
    "    df_fills['HX:FILLN'].iloc[0] = df_fills['HX:FILLN'].dropna().iloc[0]\n",
    "if df_fills['LHC.BQM.B1:NO_BUNCHES'].iloc[0] == None:\n",
    "    df_fills['LHC.BQM.B1:NO_BUNCHES'].iloc[0] == df_fills['LHC.BQM.B1:NO_BUNCHES'].dropna().iloc[0]\n",
    "#i f df_fills['HX:BMODE'].iloc[0] == None:\n",
    "#    df_fills['HX:BMODE'].iloc[0] == df_fills['HX:BMODE'].dropna().iloc[0]\n",
    "    \n",
    "df_fills['LHC.BQM.B1:NO_BUNCHES'] = df_fills['LHC.BQM.B1:NO_BUNCHES'].replace()\n",
    "df_fills['HX:FILLN'] = df_fills['HX:FILLN'].ffill(axis=0)\n",
    "#df_fills['HX:BMODE'] = df_fills['HX:BMODE'].replace()\n",
    "\n",
    "\n",
    "display(df_fills)\n",
    "groupednew = df_fills.groupby(df_fills['HX:FILLN'])\n",
    "group_mode = df_fills.groupby(df_fills['HX:BMODE'])\n",
    "maximum_b = []\n",
    "\n",
    "for key, group in groupednew:\n",
    "    #print(group[['HX:FILLN', 'LHC.BQM.B1:NO_BUNCHES']])\n",
    "    maximum_b.append(group['LHC.BQM.B1:NO_BUNCHES'].unique())\n",
    "    \n",
    "#print(len(maximum_b))\n",
    "#print(maximum_b)\n",
    "\n",
    "maximum_b= [[int(val) for val in row] for row in maximum_b]\n",
    "\n",
    "last = []\n",
    "for i in maximum_b:\n",
    "    last.append(max(i))\n",
    "    print(i)\n",
    "print('Max number of bunches per fill= ', last)\n",
    "number_fill = list(map(int,df_fills['HX:FILLN'].unique()))\n",
    "print(number_fill)\n",
    "\n",
    "\n",
    "    \n",
    "plt.scatter(number_fill, last)\n",
    "plt.title('Number of fill vs max number of bunches')\n",
    "plt.xlabel('Number of fill')\n",
    "plt.ylabel('Max number of bunches')"
   ]
  },
  {
   "cell_type": "markdown",
   "id": "c79f00a5",
   "metadata": {},
   "source": [
    "## Fill numbers"
   ]
  },
  {
   "cell_type": "code",
   "execution_count": 418,
   "id": "7693bb64",
   "metadata": {},
   "outputs": [
    {
     "name": "stdout",
     "output_type": "stream",
     "text": [
      "8492\n",
      "8493\n",
      "8494\n",
      "8495\n",
      "8496\n",
      "8497\n"
     ]
    }
   ],
   "source": [
    "for i in df_fills['HX:FILLN'].unique():\n",
    "    print(i)"
   ]
  },
  {
   "cell_type": "code",
   "execution_count": 438,
   "id": "4664fc33",
   "metadata": {},
   "outputs": [
    {
     "name": "stdout",
     "output_type": "stream",
     "text": [
      "2022-11-27 12:11:20.529238525+00:00\n"
     ]
    }
   ],
   "source": [
    "t1 = pd.Timestamp(df_modes[df_modes['HX:BMODE'] == 'INJPHYS'].index[0], tz='UTC')\n",
    "print(t1)"
   ]
  },
  {
   "cell_type": "markdown",
   "id": "9136b02d",
   "metadata": {},
   "source": [
    "## Modes in one fill reached flat top"
   ]
  },
  {
   "cell_type": "markdown",
   "id": "2f1c8a69",
   "metadata": {},
   "source": [
    "for i in df_fills['HX:BMODE'].unique():\n",
    "    print(i)\n",
    "    a = group_mode.get_group(str(i))['HX:BMODE'].value_counts()"
   ]
  },
  {
   "cell_type": "code",
   "execution_count": 419,
   "id": "c7ae720b",
   "metadata": {},
   "outputs": [
    {
     "data": {
      "text/plain": [
       "INJPROB     3\n",
       "SETUP       3\n",
       "BEAMDUMP    2\n",
       "FLATTOP     1\n",
       "SQUEEZE     1\n",
       "NOBEAM      1\n",
       "RAMP        1\n",
       "INJPHYS     1\n",
       "ADJUST      1\n",
       "RAMPDOWN    1\n",
       "PRERAMP     1\n",
       "STABLE      1\n",
       "Name: HX:BMODE, dtype: int64"
      ]
     },
     "execution_count": 419,
     "metadata": {},
     "output_type": "execute_result"
    }
   ],
   "source": [
    "groupednew.get_group('8496')['HX:BMODE'].value_counts()"
   ]
  },
  {
   "cell_type": "code",
   "execution_count": 420,
   "id": "80c1e18d",
   "metadata": {},
   "outputs": [
    {
     "data": {
      "text/plain": [
       "'8492'"
      ]
     },
     "execution_count": 420,
     "metadata": {},
     "output_type": "execute_result"
    }
   ],
   "source": [
    "df_fills['HX:FILLN'].unique()[0]"
   ]
  },
  {
   "cell_type": "markdown",
   "id": "109a624f",
   "metadata": {},
   "source": [
    "## Mode per fill"
   ]
  },
  {
   "cell_type": "code",
   "execution_count": 344,
   "id": "3bc0cec1",
   "metadata": {},
   "outputs": [
    {
     "data": {
      "text/plain": [
       "HX:FILLN  HX:BMODE\n",
       "8492      BEAMDUMP    2\n",
       "          CYCLING     1\n",
       "          NOBEAM      1\n",
       "          RAMPDOWN    1\n",
       "8493      INJPHYS     1\n",
       "          INJPROB     1\n",
       "          SETUP       1\n",
       "8494      BEAMDUMP    1\n",
       "          INJPHYS     1\n",
       "          INJPROB     1\n",
       "          PRERAMP     1\n",
       "          RAMP        1\n",
       "          RAMPDOWN    1\n",
       "8495      BEAMDUMP    1\n",
       "          FLATTOP     1\n",
       "          INJPHYS     1\n",
       "          INJPROB     1\n",
       "          PRERAMP     1\n",
       "          RAMP        1\n",
       "          RAMPDOWN    1\n",
       "          SETUP       1\n",
       "8496      INJPROB     3\n",
       "          SETUP       3\n",
       "          BEAMDUMP    2\n",
       "          ADJUST      1\n",
       "          FLATTOP     1\n",
       "          INJPHYS     1\n",
       "          NOBEAM      1\n",
       "          PRERAMP     1\n",
       "          RAMP        1\n",
       "          RAMPDOWN    1\n",
       "          SQUEEZE     1\n",
       "          STABLE      1\n",
       "Name: HX:BMODE, dtype: int64"
      ]
     },
     "execution_count": 344,
     "metadata": {},
     "output_type": "execute_result"
    }
   ],
   "source": [
    "groupednew['HX:BMODE'].value_counts()"
   ]
  },
  {
   "cell_type": "markdown",
   "id": "7201887f",
   "metadata": {},
   "source": [
    "## In 6 fills the number of modes in total"
   ]
  },
  {
   "cell_type": "code",
   "execution_count": 401,
   "id": "8827e4e3",
   "metadata": {},
   "outputs": [
    {
     "data": {
      "text/plain": [
       "HX:BMODE  HX:BMODE\n",
       "ADJUST    ADJUST      1\n",
       "BEAMDUMP  BEAMDUMP    6\n",
       "CYCLING   CYCLING     1\n",
       "FLATTOP   FLATTOP     2\n",
       "INJPHYS   INJPHYS     4\n",
       "INJPROB   INJPROB     6\n",
       "NOBEAM    NOBEAM      2\n",
       "PRERAMP   PRERAMP     3\n",
       "RAMP      RAMP        3\n",
       "RAMPDOWN  RAMPDOWN    4\n",
       "SETUP     SETUP       5\n",
       "SQUEEZE   SQUEEZE     1\n",
       "STABLE    STABLE      1\n",
       "Name: HX:BMODE, dtype: int64"
      ]
     },
     "execution_count": 401,
     "metadata": {},
     "output_type": "execute_result"
    }
   ],
   "source": [
    "group_mode['HX:BMODE'].value_counts()"
   ]
  },
  {
   "cell_type": "code",
   "execution_count": 373,
   "id": "57c47964",
   "metadata": {},
   "outputs": [
    {
     "data": {
      "text/plain": [
       "array([ 58338,  58513,  96449, 113828, 196458, 196491])"
      ]
     },
     "execution_count": 373,
     "metadata": {},
     "output_type": "execute_result"
    }
   ],
   "source": [
    "np.where(data['HX:BMODE']=='BEAMDUMP')[0]"
   ]
  },
  {
   "cell_type": "code",
   "execution_count": 375,
   "id": "e0109fcc",
   "metadata": {},
   "outputs": [
    {
     "data": {
      "text/plain": [
       "array([78836])"
      ]
     },
     "execution_count": 375,
     "metadata": {},
     "output_type": "execute_result"
    }
   ],
   "source": [
    "np.where(data['HX:BMODE']=='CYCLING')[0]"
   ]
  },
  {
   "cell_type": "code",
   "execution_count": 376,
   "id": "a65e4d7a",
   "metadata": {},
   "outputs": [
    {
     "data": {
      "text/plain": [
       "array([ 93722, 111302, 147859])"
      ]
     },
     "execution_count": 376,
     "metadata": {},
     "output_type": "execute_result"
    }
   ],
   "source": [
    "np.where(data['HX:BMODE']=='RAMP')[0]"
   ]
  },
  {
   "cell_type": "code",
   "execution_count": 379,
   "id": "09d3bd0b",
   "metadata": {},
   "outputs": [
    {
     "data": {
      "text/plain": [
       "array([ 86311,  88176, 104574, 137525])"
      ]
     },
     "execution_count": 379,
     "metadata": {},
     "output_type": "execute_result"
    }
   ],
   "source": [
    "np.where(data['HX:BMODE']=='INJPHYS')[0]"
   ]
  },
  {
   "cell_type": "code",
   "execution_count": null,
   "id": "8bf1eb4c",
   "metadata": {},
   "outputs": [],
   "source": []
  }
 ],
 "metadata": {
  "kernelspec": {
   "display_name": "Python 3",
   "language": "python",
   "name": "python3"
  },
  "language_info": {
   "codemirror_mode": {
    "name": "ipython",
    "version": 3
   },
   "file_extension": ".py",
   "mimetype": "text/x-python",
   "name": "python",
   "nbconvert_exporter": "python",
   "pygments_lexer": "ipython3",
   "version": "3.9.12"
  }
 },
 "nbformat": 4,
 "nbformat_minor": 5
}
