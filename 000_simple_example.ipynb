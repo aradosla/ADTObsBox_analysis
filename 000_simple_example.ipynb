{
 "cells": [
  {
   "cell_type": "code",
   "execution_count": 1,
   "id": "9ae4ed42",
   "metadata": {},
   "outputs": [],
   "source": [
    "import pandas as pd\n",
    "import numpy as np\n",
    "import matplotlib.pyplot as plt\n",
    "import h5py\n",
    "import datetime"
   ]
  },
  {
   "cell_type": "markdown",
   "id": "c5e36394",
   "metadata": {},
   "source": [
    "# 1. Create fake data for 1 bunch "
   ]
  },
  {
   "cell_type": "code",
   "execution_count": 3,
   "id": "93cdfb30",
   "metadata": {},
   "outputs": [],
   "source": [
    "sampling_frequency = 11245.5 # LHC revolution frequency\n",
    "sampling_time      = 1./sampling_frequency \n",
    "nyquist_frequency  = sampling_frequency/2.\n",
    "bunch_spacing      = 25e-9 # bunch spacing\n",
    "total_nb_bunches   = 3564 # total number of bunches in the LHC\n",
    "\n",
    "signal1_frequency  = 3000.    # Hz\n",
    "signal1_amplitude  = 5.0     # assuming um\n",
    "signal1_color      = 'r'\n",
    "signal2_frequency  = 8000.    # Hz\n",
    "signal2_amplitude  = 2.5 \n",
    "signal2_color      = 'b'\n",
    "signal3_frequency  = 16000.    # Hz\n",
    "signal3_amplitude  = 1.0 \n",
    "signal3_color      = 'g'\n",
    "\n",
    "time               = np.arange(0, 1, 1/sampling_frequency) # signal of 1 sec. durtation"
   ]
  },
  {
   "cell_type": "code",
   "execution_count": null,
   "id": "99c5e685",
   "metadata": {},
   "outputs": [],
   "source": [
    "signal = signal1_amplitude*np.cos(2*np.pi*signal1_frequency*time) + signal2_amplitude* np.cos(2*np.pi*signal2_frequency*time) + signal3_amplitude* np.cos(2*np.pi*signal3_frequency*time)\n",
    "\n",
    "signal_fft = abs(np.fft.fft(signal))\n",
    "signal_fft = signal_fft/len(signal_fft)*2. # normalization\n",
    "signal_freqs = np.linspace(0, sampling_frequency, len(time))"
   ]
  },
  {
   "cell_type": "code",
   "execution_count": 4,
   "id": "943d0c39",
   "metadata": {},
   "outputs": [],
   "source": [
    "def get_aliased_frequency(freq):\n",
    "    while freq > sampling_frequency / 2:\n",
    "        freq = abs(sampling_frequency-freq)\n",
    "    return freq"
   ]
  },
  {
   "cell_type": "code",
   "execution_count": 5,
   "id": "cce578ba",
   "metadata": {},
   "outputs": [
    {
     "name": "stdout",
     "output_type": "stream",
     "text": [
      "3000.0 will appear as 3000.0 Hz, r\n",
      "8000.0 will appear as 3245.5 Hz, b\n",
      "16000.0 will appear as 4754.5 Hz, g\n"
     ]
    },
    {
     "data": {
      "image/png": "[encoded data removed]",
      "text/plain": [
       "<Figure size 432x288 with 1 Axes>"
      ]
     },
     "metadata": {
      "needs_background": "light"
     },
     "output_type": "display_data"
    }
   ],
   "source": [
    "fig, ax = plt.subplots()\n",
    "plt.plot(signal_freqs, signal_fft)\n",
    "plt.xlim(0, nyquist_frequency)\n",
    "plt.ylabel(\"Amplitude (um)\")\n",
    "plt.xlabel(\"f (Hz)\")\n",
    "\n",
    "for freq, color in zip([signal1_frequency, signal2_frequency, signal3_frequency], [signal1_color, signal2_color, signal3_color]):\n",
    "    # find aliased frequencies if any\n",
    "    aliased_frequency = get_aliased_frequency(freq)\n",
    "    print(f\"{freq} will appear as {aliased_frequency} Hz, {color}\")\n",
    "    plt.axvline(aliased_frequency, c=color, lw=0.5)\n",
    "    "
   ]
  },
  {
   "cell_type": "markdown",
   "id": "db03b5b2",
   "metadata": {},
   "source": [
    "# 2. Create fake data for several bunches"
   ]
  },
  {
   "cell_type": "markdown",
   "id": "1b1c713d",
   "metadata": {},
   "source": [
    "## Periodic filling scheme"
   ]
  },
  {
   "cell_type": "code",
   "execution_count": 3,
   "id": "99317f91",
   "metadata": {},
   "outputs": [],
   "source": [
    "# periodc filling scheme\n",
    "\n",
    "nb_bunches = 3\n",
    "deltaT_s   = total_nb_bunches/nb_bunches * bunch_spacing \n",
    "signal_freqs = np.linspace(0, sampling_frequency, len(time))\n",
    "\n",
    "signal_bunch = {}\n",
    "fft_bunch = {}\n",
    "combined_fft_bunch_corrected = []\n",
    "\n",
    "for nb_bunch in range(nb_bunches):\n",
    "    time_delay = nb_bunch * deltaT_s\n",
    "    bunch_time = time + time_delay\n",
    "    signal_bunch[nb_bunch] = signal1_amplitude*np.cos(2*np.pi*signal1_frequency*bunch_time) + signal2_amplitude* np.cos(2*np.pi*signal2_frequency*bunch_time) + signal3_amplitude* np.cos(2*np.pi*signal3_frequency*bunch_time)\n",
    "    fft_bunch[nb_bunch] = np.fft.fft(signal_bunch[nb_bunch])\n",
    "    fft_bunch[nb_bunch]/= len(fft_bunch[nb_bunch]) # no abs\n",
    "    fft_bunch[nb_bunch]*= 2.0\n",
    "    combined_fft_bunch_corrected.append(fft_bunch[nb_bunch] * np.exp(-1j*2*np.pi*signal_freqs*time_delay))"
   ]
  },
  {
   "cell_type": "code",
   "execution_count": 4,
   "id": "383859f8",
   "metadata": {},
   "outputs": [
    {
     "data": {
      "image/png": "[encoded data removed]",
      "text/plain": [
       "<Figure size 864x360 with 3 Axes>"
      ]
     },
     "metadata": {
      "needs_background": "light"
     },
     "output_type": "display_data"
    }
   ],
   "source": [
    "fig, ax = plt.subplots(figsize=(12,5), ncols=3, sharex=True, sharey=True)\n",
    "\n",
    "plt.xlim(0, nyquist_frequency)\n",
    "plt.sca(ax[0])\n",
    "plt.ylabel(\"Amplitude (um)\")\n",
    "\n",
    "for nb_bunch in range(nb_bunches):\n",
    "    plt.sca(ax[nb_bunch])\n",
    "    plt.xlabel(\"f (Hz)\")\n",
    "    plt.plot(signal_freqs,abs(fft_bunch[nb_bunch]))\n",
    "    plt.title(f\"Bunch {nb_bunch+1}\")\n",
    "\n",
    "\n"
   ]
  },
  {
   "cell_type": "code",
   "execution_count": 5,
   "id": "a9ca7807",
   "metadata": {},
   "outputs": [
    {
     "data": {
      "image/png": "[encoded data removed]",
      "text/plain": [
       "<Figure size 432x288 with 1 Axes>"
      ]
     },
     "metadata": {
      "needs_background": "light"
     },
     "output_type": "display_data"
    }
   ],
   "source": [
    "nb_bunches = 3\n",
    "filling_pattern = [0, 1*total_nb_bunches/3, 2*total_nb_bunches/3]\n",
    "signal_freqs = np.linspace(0, sampling_frequency, len(time))\n",
    "\n",
    "repeat_fft = 3\n",
    "signal_freqs_extended = np.linspace(0, sampling_frequency*repeat_fft, repeat_fft*len(time))\n",
    "\n",
    "signal_bunch = {}\n",
    "fft_bunch = {}\n",
    "combined_fft_bunch_corrected = []\n",
    "\n",
    "for nb_bunch in range(nb_bunches):\n",
    "    time_delay = filling_pattern[nb_bunch] * bunch_spacing\n",
    "    bunch_time = time + time_delay\n",
    "    signal_bunch[nb_bunch] = signal1_amplitude*np.cos(2*np.pi*signal1_frequency*bunch_time) + signal2_amplitude* np.cos(2*np.pi*signal2_frequency*bunch_time) + signal3_amplitude* np.cos(2*np.pi*signal3_frequency*bunch_time)\n",
    "    fft_bunch[nb_bunch] = np.fft.fft(signal_bunch[nb_bunch])\n",
    "    fft_bunch[nb_bunch]/= len(fft_bunch[nb_bunch]) # no abs\n",
    "    fft_bunch[nb_bunch]*= 2.0\n",
    "    \n",
    "    fft_bunch[nb_bunch] = np.concatenate([fft_bunch[nb_bunch]]*repeat_fft)\n",
    "    combined_fft_bunch_corrected.append(fft_bunch[nb_bunch] * np.exp(-1j*2*np.pi*signal_freqs_extended*time_delay))\n",
    "\n",
    "combined_fft = np.mean(combined_fft_bunch_corrected, axis=0)\n",
    "plt.plot(signal_freqs_extended, abs(combined_fft))\n",
    "plt.xlim(0, 17000)\n",
    "\n",
    "for freq, color in zip([signal1_frequency, signal2_frequency, signal3_frequency], [signal1_color, signal2_color, signal3_color]):\n",
    "    plt.axvline(freq, c=color, lw=0.5)\n",
    "\n",
    "\n"
   ]
  },
  {
   "cell_type": "markdown",
   "id": "1468e365",
   "metadata": {},
   "source": [
    "## Half-full machine"
   ]
  },
  {
   "cell_type": "code",
   "execution_count": 10,
   "id": "f37fb1f7",
   "metadata": {},
   "outputs": [
    {
     "data": {
      "image/png": "[encoded data removed]",
      "text/plain": [
       "<Figure size 432x288 with 1 Axes>"
      ]
     },
     "metadata": {
      "needs_background": "light"
     },
     "output_type": "display_data"
    }
   ],
   "source": [
    "nb_bunches = total_nb_bunches//2\n",
    "filling_pattern = np.arange(0, nb_bunches)\n",
    "signal_freqs = np.linspace(0, sampling_frequency, len(time))\n",
    "\n",
    "repeat_fft = 3\n",
    "signal_freqs_extended = np.linspace(0, sampling_frequency*repeat_fft, repeat_fft*len(time))\n",
    "\n",
    "signal_bunch = {}\n",
    "fft_bunch = {}\n",
    "combined_fft_bunch_corrected = []\n",
    "\n",
    "for nb_bunch in range(nb_bunches):\n",
    "    #print(nb_bunch)\n",
    "    time_delay = filling_pattern[nb_bunch] * bunch_spacing\n",
    "    bunch_time = time + time_delay\n",
    "    signal_bunch[nb_bunch] = signal1_amplitude*np.cos(2*np.pi*signal1_frequency*bunch_time) + signal2_amplitude* np.cos(2*np.pi*signal2_frequency*bunch_time) + signal3_amplitude* np.cos(2*np.pi*signal3_frequency*bunch_time)\n",
    "    fft_bunch[nb_bunch] = np.fft.fft(signal_bunch[nb_bunch])\n",
    "    fft_bunch[nb_bunch]/= len(fft_bunch[nb_bunch]) # no abs\n",
    "    fft_bunch[nb_bunch]*= 2.0\n",
    "    \n",
    "    fft_bunch[nb_bunch] = np.concatenate([fft_bunch[nb_bunch]]*repeat_fft)\n",
    "    combined_fft_bunch_corrected.append(fft_bunch[nb_bunch] * np.exp(-1j*2*np.pi*signal_freqs_extended*time_delay))\n",
    "\n",
    "combined_fft = np.mean(combined_fft_bunch_corrected, axis=0)\n",
    "plt.plot(signal_freqs_extended, abs(combined_fft))\n",
    "plt.xlim(0, 17000)\n",
    "\n",
    "for freq, color in zip([signal1_frequency, signal2_frequency, signal3_frequency], [signal1_color, signal2_color, signal3_color]):\n",
    "    plt.axvline(freq, c=color, lw=0.5)\n",
    "\n"
   ]
  },
  {
   "cell_type": "markdown",
   "id": "0f906beb",
   "metadata": {},
   "source": [
    "## Random filling scheme"
   ]
  },
  {
   "cell_type": "code",
   "execution_count": 12,
   "id": "ba6dc197",
   "metadata": {},
   "outputs": [
    {
     "data": {
      "image/png": "[encoded data removed]",
      "text/plain": [
       "<Figure size 432x288 with 1 Axes>"
      ]
     },
     "metadata": {
      "needs_background": "light"
     },
     "output_type": "display_data"
    }
   ],
   "source": [
    "import random\n",
    "\n",
    "nb_bunches = 2000\n",
    "\n",
    "filling_pattern = random.sample(range(total_nb_bunches+1), nb_bunches)\n",
    "\n",
    "signal_freqs = np.linspace(0, sampling_frequency, len(time))\n",
    "\n",
    "repeat_fft = 3\n",
    "signal_freqs_extended = np.linspace(0, sampling_frequency*repeat_fft, repeat_fft*len(time))\n",
    "\n",
    "signal_bunch = {}\n",
    "fft_bunch = {}\n",
    "combined_fft_bunch_corrected = []\n",
    "\n",
    "for nb_bunch in range(nb_bunches):\n",
    "    time_delay = filling_pattern[nb_bunch] * bunch_spacing\n",
    "    bunch_time = time + time_delay\n",
    "    signal_bunch[nb_bunch] = signal1_amplitude*np.cos(2*np.pi*signal1_frequency*bunch_time) + signal2_amplitude* np.cos(2*np.pi*signal2_frequency*bunch_time) + signal3_amplitude* np.cos(2*np.pi*signal3_frequency*bunch_time)\n",
    "    fft_bunch[nb_bunch] = np.fft.fft(signal_bunch[nb_bunch])\n",
    "    fft_bunch[nb_bunch]/= len(fft_bunch[nb_bunch]) # no abs\n",
    "    fft_bunch[nb_bunch]*= 2.0\n",
    "    \n",
    "    fft_bunch[nb_bunch] = np.concatenate([fft_bunch[nb_bunch]]*repeat_fft)\n",
    "    combined_fft_bunch_corrected.append(fft_bunch[nb_bunch] * np.exp(-1j*2*np.pi*signal_freqs_extended*time_delay))\n",
    "\n",
    "combined_fft = np.mean(combined_fft_bunch_corrected, axis=0)\n",
    "plt.plot(signal_freqs_extended, abs(combined_fft))\n",
    "plt.xlim(0, 17000)\n",
    "\n",
    "for freq, color in zip([signal1_frequency, signal2_frequency, signal3_frequency], [signal1_color, signal2_color, signal3_color]):\n",
    "    plt.axvline(freq, c=color, lw=0.5)\n",
    "\n",
    "\n"
   ]
  },
  {
   "cell_type": "code",
   "execution_count": 18,
   "id": "a526fd95",
   "metadata": {},
   "outputs": [
    {
     "data": {
      "image/png": "[encoded data removed]",
      "text/plain": [
       "<Figure size 432x288 with 1 Axes>"
      ]
     },
     "metadata": {
      "needs_background": "light"
     },
     "output_type": "display_data"
    }
   ],
   "source": [
    "import random\n",
    "\n",
    "nb_bunches = 50\n",
    "\n",
    "filling_pattern = random.sample(range(total_nb_bunches+1), nb_bunches)\n",
    "\n",
    "signal_freqs = np.linspace(0, sampling_frequency, len(time))\n",
    "\n",
    "repeat_fft = 3\n",
    "signal_freqs_extended = np.linspace(0, sampling_frequency*repeat_fft, repeat_fft*len(time))\n",
    "\n",
    "signal_bunch = {}\n",
    "fft_bunch = {}\n",
    "combined_fft_bunch_corrected = []\n",
    "\n",
    "for nb_bunch in range(nb_bunches):\n",
    "    time_delay = filling_pattern[nb_bunch] * bunch_spacing\n",
    "    bunch_time = time + time_delay\n",
    "    signal_bunch[nb_bunch] = signal1_amplitude*np.cos(2*np.pi*signal1_frequency*bunch_time) + signal2_amplitude* np.cos(2*np.pi*signal2_frequency*bunch_time) + signal3_amplitude* np.cos(2*np.pi*signal3_frequency*bunch_time)\n",
    "    fft_bunch[nb_bunch] = np.fft.fft(signal_bunch[nb_bunch])\n",
    "    fft_bunch[nb_bunch]/= len(fft_bunch[nb_bunch]) # no abs\n",
    "    fft_bunch[nb_bunch]*= 2.0\n",
    "    \n",
    "    fft_bunch[nb_bunch] = np.concatenate([fft_bunch[nb_bunch]]*repeat_fft)\n",
    "    combined_fft_bunch_corrected.append(fft_bunch[nb_bunch] * np.exp(-1j*2*np.pi*signal_freqs_extended*time_delay))\n",
    "\n",
    "combined_fft = np.mean(combined_fft_bunch_corrected, axis=0)\n",
    "plt.plot(signal_freqs_extended, abs(combined_fft))\n",
    "plt.xlim(0, 17000)\n",
    "\n",
    "for freq, color in zip([signal1_frequency, signal2_frequency, signal3_frequency], [signal1_color, signal2_color, signal3_color]):\n",
    "    plt.axvline(freq, c=color, lw=0.5)\n",
    "\n",
    "\n",
    "\n"
   ]
  },
  {
   "cell_type": "markdown",
   "id": "4f5561d2",
   "metadata": {},
   "source": [
    "# 3. Fake data in h5 format and ADT class"
   ]
  },
  {
   "cell_type": "code",
   "execution_count": 4,
   "id": "4aa4946e",
   "metadata": {},
   "outputs": [],
   "source": [
    "# Create a 2D array with # number of turns as rows and 3564 column \n",
    "\n",
    "nb_bunches = 3\n",
    "filling_pattern = [0, 1*total_nb_bunches//3, 2*total_nb_bunches//3]\n",
    "\n",
    "fake_data = np.zeros((len(time), total_nb_bunches), dtype='float')\n",
    "\n",
    "for nb_bunch in range(nb_bunches):\n",
    "    time_delay = filling_pattern[nb_bunch] * bunch_spacing\n",
    "    bunch_time = time + time_delay\n",
    "    fake_data[:, filling_pattern[nb_bunch]] = signal1_amplitude*np.cos(2*np.pi*signal1_frequency*bunch_time) + signal2_amplitude* np.cos(2*np.pi*signal2_frequency*bunch_time) + signal3_amplitude* np.cos(2*np.pi*signal3_frequency*bunch_time)\n",
    "    \n",
    "# Save in h5 format compatible with ADTObsBox data\n",
    "with h5py.File('B1H_Q8_20250618_04h00m05s26426us.h5','w') as f:\n",
    "    group = f.create_group('B1')\n",
    "    group.create_dataset(name='horizontal', data=fake_data)\n",
    "\n",
    "with h5py.File('B1H_Q8_20250618_04h01m05s26426us.h5','w') as f:\n",
    "    group = f.create_group('B1')\n",
    "    group.create_dataset(name='horizontal', data=fake_data)\n",
    "    \n",
    "with h5py.File('B2H_Q7_20250618_04h04m05s26426us.h5','w') as f:\n",
    "    group = f.create_group('B2')\n",
    "    group.create_dataset(name='horizontal', data=fake_data)\n",
    "\n",
    "filenames_to_consider = [\"B1H_Q8_20250618_04h00m05s26426us.h5\", \"B1H_Q8_20250618_04h01m05s26426us.h5\", 'B2H_Q7_20250618_04h04m05s26426us.h5']\n"
   ]
  },
  {
   "cell_type": "code",
   "execution_count": 9,
   "id": "4c3de251",
   "metadata": {},
   "outputs": [],
   "source": [
    "class ADT:\n",
    "    def __init__(self, filenames):\n",
    "        df = self.extract_file_info(filenames)\n",
    "        df.sort_index(inplace=True)\n",
    "        self.importEmptyDF = {bp: df[df['Beam-Plane'] == bp] for bp in np.unique(df['Beam-Plane'])}\n",
    "\n",
    "    def extract_file_info(self, filenames):\n",
    "        beam_planes = []\n",
    "        pus = []\n",
    "        times = []\n",
    "        for file_name in filenames:\n",
    "            bp, pu, date, time = file_name.split('/')[-1].split('_')\n",
    "            time = self.fromName2Timestamp(f'{bp}_{pu}_{date}_{time}')\n",
    "            beam_planes.append(bp)\n",
    "            pus.append(pu)\n",
    "            times.append(time)\n",
    "        return pd.DataFrame({'PU': pus, 'Beam-Plane': beam_planes, 'Path': filenames}, index=np.array(times))\n",
    "\n",
    "    def fromName2Timestamp(self, current_fileName,tz_start='CET',tz_end='UTC'):\n",
    "        year = current_fileName.split('_')[-2][0:4]\n",
    "        month = current_fileName.split('_')[-2][4:6]\n",
    "        day   = current_fileName.split('_')[-2][6:]\n",
    "        full_datetime = f'{day}/{month}/{year} ' + current_fileName.split('_')[-1].split('.')[0]\n",
    "        return pd.Timestamp(datetime.datetime.strptime(full_datetime,\"%d/%m/%Y %Hh%Mm%Ss%fus\")).tz_localize(tz_start, ambiguous=False).tz_convert(tz_end)\n",
    "\n",
    "    def loadData(self, fileName):\n",
    "        fi = h5py.File(fileName, 'r')\n",
    "        beam, plane = fileName.split('_')[-4].split('/')[-1][:2], fileName.split('_')[-4].split('/')[-1][2:3]\n",
    "        plane = 'horizontal' if plane == 'H' else 'vertical'\n",
    "        alldat = fi[beam][plane]\n",
    "        print('Buffer: Turns = %s, Bunches = %s' % (alldat.shape[0], alldat.shape[1]))\n",
    "        return alldat[:]\n",
    "    \n",
    "    def cmp_fft(self, data, specific_bunch, frev=11245.5, first_bunch_slot=0, bunch_spacing=25e-9, repeat_fft=1):\n",
    "        fourier =  np.fft.fft(data[:,specific_bunch] )\n",
    "        fourier = fourier/len(fourier)*2.0\n",
    "        delay   = (specific_bunch-first_bunch_slot)*bunch_spacing\n",
    "        fourier = np.concatenate([fourier]*repeat_fft)\n",
    "        freqs   = np.linspace(0, frev*repeat_fft, len(fourier))\n",
    "        corrected_fourier = fourier*np.exp(-1j*2.0*np.pi*freqs*delay)\n",
    "        return pd.Series([freqs, fourier.real, fourier.imag, corrected_fourier.real, corrected_fourier.imag])\n",
    "    "
   ]
  },
  {
   "cell_type": "code",
   "execution_count": 10,
   "id": "b394f977",
   "metadata": {},
   "outputs": [],
   "source": [
    "#from useful_tools.useful_functions import *"
   ]
  },
  {
   "cell_type": "code",
   "execution_count": 11,
   "id": "b0be401a",
   "metadata": {
    "scrolled": true
   },
   "outputs": [
    {
     "name": "stdout",
     "output_type": "stream",
     "text": [
      "B1H B1\n",
      "Buffer: Turns = 11246, Bunches = 3564\n",
      "Buffer: Turns = 11246, Bunches = 3564\n",
      "Bunch slots [   0 1188 2376]\n",
      "Bunch slots [   0 1188 2376]\n",
      "B2H B2\n",
      "Buffer: Turns = 11246, Bunches = 3564\n",
      "Bunch slots [   0 1188 2376]\n"
     ]
    },
    {
     "data": {
      "image/png": "[encoded data removed]",
      "text/plain": [
       "<Figure size 432x288 with 1 Axes>"
      ]
     },
     "metadata": {
      "needs_background": "light"
     },
     "output_type": "display_data"
    },
    {
     "data": {
      "image/png": "[encoded data removed]",
      "text/plain": [
       "<Figure size 432x288 with 1 Axes>"
      ]
     },
     "metadata": {
      "needs_background": "light"
     },
     "output_type": "display_data"
    },
    {
     "data": {
      "image/png": "[encoded data removed]",
      "text/plain": [
       "<Figure size 432x288 with 1 Axes>"
      ]
     },
     "metadata": {
      "needs_background": "light"
     },
     "output_type": "display_data"
    }
   ],
   "source": [
    "adt = ADT(filenames_to_consider)\n",
    "myDict = adt.importEmptyDF\n",
    "\n",
    "fourier_tot_real, fourier_tot_imag, fourier_tot_real_corr, fourier_tot_imag_corr, bunch_number_tot, time_tot, pu_tot, beam_plane_tot = [], [], [], [], [], [], [], []\n",
    "\n",
    "repeat_fft = 3\n",
    "frev = 11245.5\n",
    "which_bunch_b1 = 'all'\n",
    "which_bunch_b2 = 'all'\n",
    "\n",
    "for beamplane in myDict.keys():\n",
    "    print(beamplane, beamplane[0:2])\n",
    "    myDF = myDict[beamplane].copy()\n",
    "            \n",
    "    #try:\n",
    "    if True:\n",
    "        myDF['Data'] = myDF['Path'].apply(adt.loadData)\n",
    "      \n",
    "        for counter in range(len(myDF)):\n",
    "            data = myDF.iloc[counter]['Data']\n",
    "            time = myDF.iloc[counter].name\n",
    "            pu   = myDF.iloc[counter].PU\n",
    "            current_beamplane = myDF.iloc[counter]['Beam-Plane']\n",
    "            # for each bunch\n",
    "\n",
    "            if beamplane[0:2] == 'B1':\n",
    "                if which_bunch_b1 =='all':\n",
    "                   idx = np.where(abs(data[0,:])>0.0)[0]\n",
    "                else:\n",
    "                    idx = which_bunch_b1\n",
    "\n",
    "            elif beamplane[0:2] == 'B2':\n",
    "                if which_bunch_b2 =='all':\n",
    "                   idx = np.where(abs(data[0,:])>0.0)[0]\n",
    "                else:\n",
    "                    idx = which_bunch_b2\n",
    "            \n",
    "            print(f\"Bunch slots {idx}\")\n",
    "            for idd in idx:\n",
    "              #try:\n",
    "              if True:\n",
    "\n",
    "    \n",
    "                freqs, fourier_real, fourier_imag, fourier_corr_real, fourier_corr_imag  = adt.cmp_fft(data, specific_bunch=idd, frev=frev, first_bunch_slot=idx[0], bunch_spacing=25e-9, repeat_fft=repeat_fft)\n",
    "                \n",
    "                fourier_tot_real.append(fourier_real)\n",
    "                fourier_tot_imag.append(fourier_imag)\n",
    "                fourier_tot_real_corr.append(fourier_corr_real)\n",
    "                fourier_tot_imag_corr.append(fourier_corr_imag)\n",
    "                \n",
    "                bunch_number_tot.append(idd)\n",
    "                time_tot.append(time)\n",
    "                #freqs_tot.append(freqs)\n",
    "                pu_tot.append(pu)\n",
    "                beam_plane_tot.append(current_beamplane) \n",
    "              #except:\n",
    "              #  print('prob') \n",
    "    #except:\n",
    "    #    print('prob, load_data')\n",
    "\n",
    "dff = pd.DataFrame({'fourier_corr_real': fourier_tot_real_corr, \"fourier_corr_imag\": fourier_tot_imag_corr,'fourier_real': fourier_tot_real, 'fourier_imag': fourier_tot_imag,  'bunch': bunch_number_tot, 'time': time_tot, 'beam-plane': beam_plane_tot, 'pu': pu_tot})\n",
    "\n",
    "\n",
    "for key, group in dff.groupby(\"time\"):\n",
    "    aux = group.apply(lambda x: x.fourier_corr_real + 1j*x.fourier_corr_imag, axis=1).mean()\n",
    "    \n",
    "    freqs = np.linspace(0, 11245.5*repeat_fft, len(aux))\n",
    "    fig, ax = plt.subplots()\n",
    "    plt.plot(freqs, abs(aux)) \n",
    "    plt.xlabel(\"f (Hz)\")\n",
    "    plt.ylabel(r\"FFT ($\\rm \\mu m$)\")\n",
    "    plt.title(key)\n",
    "    plt.ylim(0,5.0)\n",
    "    plt.xlim(0, frev*repeat_fft*0.5)\n",
    "    "
   ]
  },
  {
   "cell_type": "code",
   "execution_count": null,
   "id": "7e022e65",
   "metadata": {},
   "outputs": [],
   "source": []
  }
 ],
 "metadata": {
  "kernelspec": {
   "display_name": "Python 3 (ipykernel)",
   "language": "python",
   "name": "python3"
  },
  "language_info": {
   "codemirror_mode": {
    "name": "ipython",
    "version": 3
   },
   "file_extension": ".py",
   "mimetype": "text/x-python",
   "name": "python",
   "nbconvert_exporter": "python",
   "pygments_lexer": "ipython3",
   "version": "3.9.5"
  }
 },
 "nbformat": 4,
 "nbformat_minor": 5
}
