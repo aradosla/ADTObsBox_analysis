{
 "cells": [
  {
   "cell_type": "code",
   "execution_count": 60,
   "id": "100c8683",
   "metadata": {},
   "outputs": [],
   "source": [
    "! cp RTE_Frequence_2022_11.txt /Users/skostogl/Documents/workspace/ADTobsbox/nxcals_martin"
   ]
  },
  {
   "cell_type": "code",
   "execution_count": 45,
   "id": "c1f31573",
   "metadata": {},
   "outputs": [],
   "source": [
    "import pandas as pd\n",
    "\n",
    "file_path = 'RTE_Frequence_2022_11.txt'\n",
    "df = pd.read_csv(file_path, encoding='ISO-8859-1', skiprows=[0], delimiter=';', parse_dates=[0], decimal=',')\n",
    "df = df.drop([len(df)-1])\n",
    "df['DATE'] = df.apply(lambda x: pd.to_datetime(str(x['DATE']), format='%d/%m/%Y %H:%M:%S').tz_localize('CET'), axis=1)\n",
    "df['FREQUENCE_RETENUE(EN Hz)']=df['FREQUENCE_RETENUE(EN Hz)'].astype(float)"
   ]
  },
  {
   "cell_type": "code",
   "execution_count": 54,
   "id": "95d9a3c3",
   "metadata": {},
   "outputs": [],
   "source": [
    "t1 = pd.Timestamp(\"2022-11-05 20:10:04.433965+00:00\", tz='UTC')\n",
    "t2 = pd.Timestamp(\"2022-11-05 20:49:59.655837+00:00\", tz='UTC')\n",
    "\n",
    "df_int = df[(df['DATE']>=t1) & (df['DATE']<=t2)]"
   ]
  },
  {
   "cell_type": "code",
   "execution_count": 55,
   "id": "923b5b92",
   "metadata": {},
   "outputs": [
    {
     "data": {
      "text/html": [
       "<div>\n",
       "<style scoped>\n",
       "    .dataframe tbody tr th:only-of-type {\n",
       "        vertical-align: middle;\n",
       "    }\n",
       "\n",
       "    .dataframe tbody tr th {\n",
       "        vertical-align: top;\n",
       "    }\n",
       "\n",
       "    .dataframe thead th {\n",
       "        text-align: right;\n",
       "    }\n",
       "</style>\n",
       "<table border=\"1\" class=\"dataframe\">\n",
       "  <thead>\n",
       "    <tr style=\"text-align: right;\">\n",
       "      <th></th>\n",
       "      <th>DATE</th>\n",
       "      <th>FREQUENCE_RETENUE(EN Hz)</th>\n",
       "      <th>Unnamed: 2</th>\n",
       "    </tr>\n",
       "  </thead>\n",
       "  <tbody>\n",
       "    <tr>\n",
       "      <th>42181</th>\n",
       "      <td>2022-11-05 21:10:10+01:00</td>\n",
       "      <td>49.9724</td>\n",
       "      <td>NaN</td>\n",
       "    </tr>\n",
       "    <tr>\n",
       "      <th>42182</th>\n",
       "      <td>2022-11-05 21:10:20+01:00</td>\n",
       "      <td>49.9708</td>\n",
       "      <td>NaN</td>\n",
       "    </tr>\n",
       "    <tr>\n",
       "      <th>42183</th>\n",
       "      <td>2022-11-05 21:10:30+01:00</td>\n",
       "      <td>49.9673</td>\n",
       "      <td>NaN</td>\n",
       "    </tr>\n",
       "    <tr>\n",
       "      <th>42184</th>\n",
       "      <td>2022-11-05 21:10:40+01:00</td>\n",
       "      <td>49.9633</td>\n",
       "      <td>NaN</td>\n",
       "    </tr>\n",
       "    <tr>\n",
       "      <th>42185</th>\n",
       "      <td>2022-11-05 21:10:50+01:00</td>\n",
       "      <td>49.9661</td>\n",
       "      <td>NaN</td>\n",
       "    </tr>\n",
       "    <tr>\n",
       "      <th>...</th>\n",
       "      <td>...</td>\n",
       "      <td>...</td>\n",
       "      <td>...</td>\n",
       "    </tr>\n",
       "    <tr>\n",
       "      <th>42415</th>\n",
       "      <td>2022-11-05 21:49:10+01:00</td>\n",
       "      <td>50.0289</td>\n",
       "      <td>NaN</td>\n",
       "    </tr>\n",
       "    <tr>\n",
       "      <th>42416</th>\n",
       "      <td>2022-11-05 21:49:20+01:00</td>\n",
       "      <td>50.0422</td>\n",
       "      <td>NaN</td>\n",
       "    </tr>\n",
       "    <tr>\n",
       "      <th>42417</th>\n",
       "      <td>2022-11-05 21:49:30+01:00</td>\n",
       "      <td>50.0479</td>\n",
       "      <td>NaN</td>\n",
       "    </tr>\n",
       "    <tr>\n",
       "      <th>42418</th>\n",
       "      <td>2022-11-05 21:49:40+01:00</td>\n",
       "      <td>50.0413</td>\n",
       "      <td>NaN</td>\n",
       "    </tr>\n",
       "    <tr>\n",
       "      <th>42419</th>\n",
       "      <td>2022-11-05 21:49:50+01:00</td>\n",
       "      <td>50.0386</td>\n",
       "      <td>NaN</td>\n",
       "    </tr>\n",
       "  </tbody>\n",
       "</table>\n",
       "<p>239 rows × 3 columns</p>\n",
       "</div>"
      ],
      "text/plain": [
       "                           DATE  FREQUENCE_RETENUE(EN Hz)  Unnamed: 2\n",
       "42181 2022-11-05 21:10:10+01:00                   49.9724         NaN\n",
       "42182 2022-11-05 21:10:20+01:00                   49.9708         NaN\n",
       "42183 2022-11-05 21:10:30+01:00                   49.9673         NaN\n",
       "42184 2022-11-05 21:10:40+01:00                   49.9633         NaN\n",
       "42185 2022-11-05 21:10:50+01:00                   49.9661         NaN\n",
       "...                         ...                       ...         ...\n",
       "42415 2022-11-05 21:49:10+01:00                   50.0289         NaN\n",
       "42416 2022-11-05 21:49:20+01:00                   50.0422         NaN\n",
       "42417 2022-11-05 21:49:30+01:00                   50.0479         NaN\n",
       "42418 2022-11-05 21:49:40+01:00                   50.0413         NaN\n",
       "42419 2022-11-05 21:49:50+01:00                   50.0386         NaN\n",
       "\n",
       "[239 rows x 3 columns]"
      ]
     },
     "execution_count": 55,
     "metadata": {},
     "output_type": "execute_result"
    }
   ],
   "source": [
    "df_int"
   ]
  },
  {
   "cell_type": "code",
   "execution_count": 59,
   "id": "350c61ea",
   "metadata": {},
   "outputs": [
    {
     "data": {
      "text/plain": [
       "[<matplotlib.lines.Line2D at 0x7ff73c0165b0>]"
      ]
     },
     "execution_count": 59,
     "metadata": {},
     "output_type": "execute_result"
    },
    {
     "data": {
      "image/png": "[encoded data removed]",
      "text/plain": [
       "<Figure size 432x288 with 1 Axes>"
      ]
     },
     "metadata": {
      "needs_background": "light"
     },
     "output_type": "display_data"
    }
   ],
   "source": [
    "import matplotlib.pyplot as plt\n",
    "myf = 7600\n",
    "k = myf/50.\n",
    "plt.plot( (df_int['FREQUENCE_RETENUE(EN Hz)']-50.0)*k + myf, df_int['DATE'])"
   ]
  },
  {
   "cell_type": "code",
   "execution_count": null,
   "id": "52364158",
   "metadata": {},
   "outputs": [],
   "source": []
  }
 ],
 "metadata": {
  "kernelspec": {
   "display_name": "Python 3 (ipykernel)",
   "language": "python",
   "name": "python3"
  },
  "language_info": {
   "codemirror_mode": {
    "name": "ipython",
    "version": 3
   },
   "file_extension": ".py",
   "mimetype": "text/x-python",
   "name": "python",
   "nbconvert_exporter": "python",
   "pygments_lexer": "ipython3",
   "version": "3.9.5"
  }
 },
 "nbformat": 4,
 "nbformat_minor": 5
}
